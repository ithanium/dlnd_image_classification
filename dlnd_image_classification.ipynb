{
 "cells": [
  {
   "cell_type": "markdown",
   "metadata": {
    "collapsed": true
   },
   "source": [
    "# Image Classification\n",
    "In this project, you'll classify images from the [CIFAR-10 dataset](https://www.cs.toronto.edu/~kriz/cifar.html).  The dataset consists of airplanes, dogs, cats, and other objects. You'll preprocess the images, then train a convolutional neural network on all the samples. The images need to be normalized and the labels need to be one-hot encoded.  You'll get to apply what you learned and build a convolutional, max pooling, dropout, and fully connected layers.  At the end, you'll get to see your neural network's predictions on the sample images.\n",
    "## Get the Data\n",
    "Run the following cell to download the [CIFAR-10 dataset for python](https://www.cs.toronto.edu/~kriz/cifar-10-python.tar.gz)."
   ]
  },
  {
   "cell_type": "code",
   "execution_count": 5,
   "metadata": {},
   "outputs": [
    {
     "name": "stdout",
     "output_type": "stream",
     "text": [
      "All files found!\n"
     ]
    }
   ],
   "source": [
    "\"\"\"\n",
    "DON'T MODIFY ANYTHING IN THIS CELL THAT IS BELOW THIS LINE\n",
    "\"\"\"\n",
    "from urllib.request import urlretrieve\n",
    "from os.path import isfile, isdir\n",
    "from tqdm import tqdm\n",
    "import problem_unittests as tests\n",
    "import tarfile\n",
    "\n",
    "cifar10_dataset_folder_path = 'cifar-10-batches-py'\n",
    "\n",
    "# Use Floyd's cifar-10 dataset if present\n",
    "floyd_cifar10_location = '/input/cifar-10/python.tar.gz'\n",
    "if isfile(floyd_cifar10_location):\n",
    "    tar_gz_path = floyd_cifar10_location\n",
    "else:\n",
    "    tar_gz_path = 'cifar-10-python.tar.gz'\n",
    "\n",
    "class DLProgress(tqdm):\n",
    "    last_block = 0\n",
    "\n",
    "    def hook(self, block_num=1, block_size=1, total_size=None):\n",
    "        self.total = total_size\n",
    "        self.update((block_num - self.last_block) * block_size)\n",
    "        self.last_block = block_num\n",
    "\n",
    "if not isfile(tar_gz_path):\n",
    "    with DLProgress(unit='B', unit_scale=True, miniters=1, desc='CIFAR-10 Dataset') as pbar:\n",
    "        urlretrieve(\n",
    "            'https://www.cs.toronto.edu/~kriz/cifar-10-python.tar.gz',\n",
    "            tar_gz_path,\n",
    "            pbar.hook)\n",
    "\n",
    "if not isdir(cifar10_dataset_folder_path):\n",
    "    with tarfile.open(tar_gz_path) as tar:\n",
    "        tar.extractall()\n",
    "        tar.close()\n",
    "\n",
    "\n",
    "tests.test_folder_path(cifar10_dataset_folder_path)"
   ]
  },
  {
   "cell_type": "markdown",
   "metadata": {},
   "source": [
    "## Explore the Data\n",
    "The dataset is broken into batches to prevent your machine from running out of memory.  The CIFAR-10 dataset consists of 5 batches, named `data_batch_1`, `data_batch_2`, etc.. Each batch contains the labels and images that are one of the following:\n",
    "* airplane\n",
    "* automobile\n",
    "* bird\n",
    "* cat\n",
    "* deer\n",
    "* dog\n",
    "* frog\n",
    "* horse\n",
    "* ship\n",
    "* truck\n",
    "\n",
    "Understanding a dataset is part of making predictions on the data.  Play around with the code cell below by changing the `batch_id` and `sample_id`. The `batch_id` is the id for a batch (1-5). The `sample_id` is the id for a image and label pair in the batch.\n",
    "\n",
    "Ask yourself \"What are all possible labels?\", \"What is the range of values for the image data?\", \"Are the labels in order or random?\".  Answers to questions like these will help you preprocess the data and end up with better predictions."
   ]
  },
  {
   "cell_type": "code",
   "execution_count": 6,
   "metadata": {},
   "outputs": [
    {
     "name": "stdout",
     "output_type": "stream",
     "text": [
      "\n",
      "Stats of batch 1:\n",
      "Samples: 10000\n",
      "Label Counts: {0: 1005, 1: 974, 2: 1032, 3: 1016, 4: 999, 5: 937, 6: 1030, 7: 1001, 8: 1025, 9: 981}\n",
      "First 20 Labels: [6, 9, 9, 4, 1, 1, 2, 7, 8, 3, 4, 7, 7, 2, 9, 9, 9, 3, 2, 6]\n",
      "\n",
      "Example of Image 5:\n",
      "Image - Min Value: 0 Max Value: 252\n",
      "Image - Shape: (32, 32, 3)\n",
      "Label - Label Id: 1 Name: automobile\n"
     ]
    },
    {
     "data": {
      "image/png": "[encoded data removed]",
      "text/plain": [
       "<matplotlib.figure.Figure at 0x20054090f28>"
      ]
     },
     "metadata": {
      "image/png": {
       "height": 250,
       "width": 253
      }
     },
     "output_type": "display_data"
    }
   ],
   "source": [
    "%matplotlib inline\n",
    "%config InlineBackend.figure_format = 'retina'\n",
    "\n",
    "import helper\n",
    "import numpy as np\n",
    "\n",
    "# Explore the dataset\n",
    "batch_id = 1\n",
    "sample_id = 5\n",
    "helper.display_stats(cifar10_dataset_folder_path, batch_id, sample_id)"
   ]
  },
  {
   "cell_type": "markdown",
   "metadata": {},
   "source": [
    "## Implement Preprocess Functions\n",
    "### Normalize\n",
    "In the cell below, implement the `normalize` function to take in image data, `x`, and return it as a normalized Numpy array. The values should be in the range of 0 to 1, inclusive.  The return object should be the same shape as `x`."
   ]
  },
  {
   "cell_type": "code",
   "execution_count": 4,
   "metadata": {},
   "outputs": [
    {
     "name": "stdout",
     "output_type": "stream",
     "text": [
      "Tests Passed\n"
     ]
    }
   ],
   "source": [
    "def normalize(x):\n",
    "    \"\"\"\n",
    "    Normalize a list of sample image data in the range of 0 to 1\n",
    "    : x: List of image data.  The image shape is (32, 32, 3)\n",
    "    : return: Numpy array of normalize data\n",
    "    \"\"\"\n",
    "    \n",
    "    return (x/255.0)\n",
    "\n",
    "\n",
    "\"\"\"\n",
    "DON'T MODIFY ANYTHING IN THIS CELL THAT IS BELOW THIS LINE\n",
    "\"\"\"\n",
    "tests.test_normalize(normalize)"
   ]
  },
  {
   "cell_type": "markdown",
   "metadata": {},
   "source": [
    "### One-hot encode\n",
    "Just like the previous code cell, you'll be implementing a function for preprocessing.  This time, you'll implement the `one_hot_encode` function. The input, `x`, are a list of labels.  Implement the function to return the list of labels as One-Hot encoded Numpy array.  The possible values for labels are 0 to 9. The one-hot encoding function should return the same encoding for each value between each call to `one_hot_encode`.  Make sure to save the map of encodings outside the function.\n",
    "\n",
    "Hint: Don't reinvent the wheel."
   ]
  },
  {
   "cell_type": "code",
   "execution_count": 9,
   "metadata": {},
   "outputs": [
    {
     "name": "stdout",
     "output_type": "stream",
     "text": [
      "Tests Passed\n"
     ]
    }
   ],
   "source": [
    "def one_hot_encode(x):\n",
    "    \"\"\"\n",
    "    One hot encode a list of sample labels. Return a one-hot encoded vector for each label.\n",
    "    : x: List of sample Labels\n",
    "    : return: Numpy array of one-hot encoded labels\n",
    "    \"\"\"\n",
    "    \n",
    "    return np.eye(10)[x]\n",
    "\n",
    "\n",
    "\"\"\"\n",
    "DON'T MODIFY ANYTHING IN THIS CELL THAT IS BELOW THIS LINE\n",
    "\"\"\"\n",
    "tests.test_one_hot_encode(one_hot_encode)"
   ]
  },
  {
   "cell_type": "markdown",
   "metadata": {},
   "source": [
    "### Randomize Data\n",
    "As you saw from exploring the data above, the order of the samples are randomized.  It doesn't hurt to randomize it again, but you don't need to for this dataset."
   ]
  },
  {
   "cell_type": "markdown",
   "metadata": {},
   "source": [
    "## Preprocess all the data and save it\n",
    "Running the code cell below will preprocess all the CIFAR-10 data and save it to file. The code below also uses 10% of the training data for validation."
   ]
  },
  {
   "cell_type": "code",
   "execution_count": 11,
   "metadata": {},
   "outputs": [],
   "source": [
    "\"\"\"\n",
    "DON'T MODIFY ANYTHING IN THIS CELL\n",
    "\"\"\"\n",
    "# Preprocess Training, Validation, and Testing Data\n",
    "helper.preprocess_and_save_data(cifar10_dataset_folder_path, normalize, one_hot_encode)"
   ]
  },
  {
   "cell_type": "markdown",
   "metadata": {},
   "source": [
    "# Check Point\n",
    "This is your first checkpoint.  If you ever decide to come back to this notebook or have to restart the notebook, you can start from here.  The preprocessed data has been saved to disk."
   ]
  },
  {
   "cell_type": "code",
   "execution_count": 12,
   "metadata": {
    "collapsed": true
   },
   "outputs": [],
   "source": [
    "\"\"\"\n",
    "DON'T MODIFY ANYTHING IN THIS CELL\n",
    "\"\"\"\n",
    "import pickle\n",
    "import problem_unittests as tests\n",
    "import helper\n",
    "\n",
    "# Load the Preprocessed Validation data\n",
    "valid_features, valid_labels = pickle.load(open('preprocess_validation.p', mode='rb'))"
   ]
  },
  {
   "cell_type": "markdown",
   "metadata": {},
   "source": [
    "## Build the network\n",
    "For the neural network, you'll build each layer into a function.  Most of the code you've seen has been outside of functions. To test your code more thoroughly, we require that you put each layer in a function.  This allows us to give you better feedback and test for simple mistakes using our unittests before you submit your project.\n",
    "\n",
    ">**Note:** If you're finding it hard to dedicate enough time for this course each week, we've provided a small shortcut to this part of the project. In the next couple of problems, you'll have the option to use classes from the [TensorFlow Layers](https://www.tensorflow.org/api_docs/python/tf/layers) or [TensorFlow Layers (contrib)](https://www.tensorflow.org/api_guides/python/contrib.layers) packages to build each layer, except the layers you build in the \"Convolutional and Max Pooling Layer\" section.  TF Layers is similar to Keras's and TFLearn's abstraction to layers, so it's easy to pickup.\n",
    "\n",
    ">However, if you would like to get the most out of this course, try to solve all the problems _without_ using anything from the TF Layers packages. You **can** still use classes from other packages that happen to have the same name as ones you find in TF Layers! For example, instead of using the TF Layers version of the `conv2d` class, [tf.layers.conv2d](https://www.tensorflow.org/api_docs/python/tf/layers/conv2d), you would want to use the TF Neural Network version of `conv2d`, [tf.nn.conv2d](https://www.tensorflow.org/api_docs/python/tf/nn/conv2d). \n",
    "\n",
    "Let's begin!\n",
    "\n",
    "### Input\n",
    "The neural network needs to read the image data, one-hot encoded labels, and dropout keep probability. Implement the following functions\n",
    "* Implement `neural_net_image_input`\n",
    " * Return a [TF Placeholder](https://www.tensorflow.org/api_docs/python/tf/placeholder)\n",
    " * Set the shape using `image_shape` with batch size set to `None`.\n",
    " * Name the TensorFlow placeholder \"x\" using the TensorFlow `name` parameter in the [TF Placeholder](https://www.tensorflow.org/api_docs/python/tf/placeholder).\n",
    "* Implement `neural_net_label_input`\n",
    " * Return a [TF Placeholder](https://www.tensorflow.org/api_docs/python/tf/placeholder)\n",
    " * Set the shape using `n_classes` with batch size set to `None`.\n",
    " * Name the TensorFlow placeholder \"y\" using the TensorFlow `name` parameter in the [TF Placeholder](https://www.tensorflow.org/api_docs/python/tf/placeholder).\n",
    "* Implement `neural_net_keep_prob_input`\n",
    " * Return a [TF Placeholder](https://www.tensorflow.org/api_docs/python/tf/placeholder) for dropout keep probability.\n",
    " * Name the TensorFlow placeholder \"keep_prob\" using the TensorFlow `name` parameter in the [TF Placeholder](https://www.tensorflow.org/api_docs/python/tf/placeholder).\n",
    "\n",
    "These names will be used at the end of the project to load your saved model.\n",
    "\n",
    "Note: `None` for shapes in TensorFlow allow for a dynamic size."
   ]
  },
  {
   "cell_type": "code",
   "execution_count": 13,
   "metadata": {},
   "outputs": [
    {
     "name": "stdout",
     "output_type": "stream",
     "text": [
      "Image Input Tests Passed.\n",
      "Label Input Tests Passed.\n",
      "Keep Prob Tests Passed.\n"
     ]
    }
   ],
   "source": [
    "import tensorflow as tf\n",
    "\n",
    "def neural_net_image_input(image_shape):\n",
    "    \"\"\"\n",
    "    Return a Tensor for a batch of image input\n",
    "    : image_shape: Shape of the images\n",
    "    : return: Tensor for image input.\n",
    "    \"\"\"\n",
    "    \n",
    "    return tf.placeholder(dtype=tf.float32, shape=[None, image_shape[0], image_shape[1], image_shape[2]], name=\"x\")\n",
    "\n",
    "\n",
    "def neural_net_label_input(n_classes):\n",
    "    \"\"\"\n",
    "    Return a Tensor for a batch of label input\n",
    "    : n_classes: Number of classes\n",
    "    : return: Tensor for label input.\n",
    "    \"\"\"\n",
    "    \n",
    "    return tf.placeholder(dtype=tf.float32, shape=[None, n_classes], name=\"y\")\n",
    "\n",
    "\n",
    "def neural_net_keep_prob_input():\n",
    "    \"\"\"\n",
    "    Return a Tensor for keep probability\n",
    "    : return: Tensor for keep probability.\n",
    "    \"\"\"\n",
    "    \n",
    "    return tf.placeholder(dtype=tf.float32, name=\"keep_prob\")\n",
    "\n",
    "\n",
    "\"\"\"\n",
    "DON'T MODIFY ANYTHING IN THIS CELL THAT IS BELOW THIS LINE\n",
    "\"\"\"\n",
    "tf.reset_default_graph()\n",
    "tests.test_nn_image_inputs(neural_net_image_input)\n",
    "tests.test_nn_label_inputs(neural_net_label_input)\n",
    "tests.test_nn_keep_prob_inputs(neural_net_keep_prob_input)"
   ]
  },
  {
   "cell_type": "markdown",
   "metadata": {},
   "source": [
    "### Convolution and Max Pooling Layer\n",
    "Convolution layers have a lot of success with images. For this code cell, you should implement the function `conv2d_maxpool` to apply convolution then max pooling:\n",
    "* Create the weight and bias using `conv_ksize`, `conv_num_outputs` and the shape of `x_tensor`.\n",
    "* Apply a convolution to `x_tensor` using weight and `conv_strides`.\n",
    " * We recommend you use same padding, but you're welcome to use any padding.\n",
    "* Add bias\n",
    "* Add a nonlinear activation to the convolution.\n",
    "* Apply Max Pooling using `pool_ksize` and `pool_strides`.\n",
    " * We recommend you use same padding, but you're welcome to use any padding.\n",
    "\n",
    "**Note:** You **can't** use [TensorFlow Layers](https://www.tensorflow.org/api_docs/python/tf/layers) or [TensorFlow Layers (contrib)](https://www.tensorflow.org/api_guides/python/contrib.layers) for **this** layer, but you can still use TensorFlow's [Neural Network](https://www.tensorflow.org/api_docs/python/tf/nn) package. You may still use the shortcut option for all the **other** layers."
   ]
  },
  {
   "cell_type": "code",
   "execution_count": 17,
   "metadata": {},
   "outputs": [
    {
     "name": "stdout",
     "output_type": "stream",
     "text": [
      "Tests Passed\n"
     ]
    }
   ],
   "source": [
    "def conv2d_maxpool(x_tensor, conv_num_outputs, conv_ksize, conv_strides, pool_ksize, pool_strides):\n",
    "    \"\"\"\n",
    "    Apply convolution then max pooling to x_tensor\n",
    "    :param x_tensor: TensorFlow Tensor\n",
    "    :param conv_num_outputs: Number of outputs for the convolutional layer\n",
    "    :param conv_ksize: kernal size 2-D Tuple for the convolutional layer\n",
    "    :param conv_strides: Stride 2-D Tuple for convolution\n",
    "    :param pool_ksize: kernal size 2-D Tuple for pool\n",
    "    :param pool_strides: Stride 2-D Tuple for pool\n",
    "    : return: A tensor that represents convolution and max pooling of x_tensor\n",
    "    \"\"\"\n",
    "    \n",
    "    # Part 1: Create the weight and bias using conv_ksize, conv_num_outputs and the shape of x_tensor.\n",
    "    in_depth = int(x_tensor.shape[3])\n",
    "    out_depth = conv_num_outputs\n",
    "    w_shape = [*conv_ksize, in_depth, out_depth]\n",
    "    weights = tf.Variable(tf.random_normal(w_shape, stddev=0.1))\n",
    "    bias = tf.Variable(tf.zeros(out_depth))\n",
    "    \n",
    "    # Part 2: Apply a convolution to x_tensor using weight and conv_strides.\n",
    "    layer = tf.nn.conv2d(x_tensor, weights, strides=[1, conv_strides[0], conv_strides[1], 1], padding='SAME')\n",
    "    \n",
    "    # Part 3: Add bias\n",
    "    layer = tf.nn.bias_add(layer, bias)\n",
    "    \n",
    "    # Part 4: Add a nonlinear activation to the convolution.\n",
    "    layer = tf.nn.relu(layer)\n",
    "    \n",
    "    # Part 5: Apply Max Pooling using pool_ksize and pool_strides.\n",
    "    layer = tf.nn.max_pool(layer, ksize=[1, pool_ksize[0], pool_ksize[1], 1], strides=[1, pool_strides[0], pool_strides[1], 1], padding='SAME')\n",
    "    \n",
    "    return layer \n",
    "\n",
    "\n",
    "\"\"\"\n",
    "DON'T MODIFY ANYTHING IN THIS CELL THAT IS BELOW THIS LINE\n",
    "\"\"\"\n",
    "tests.test_con_pool(conv2d_maxpool)"
   ]
  },
  {
   "cell_type": "markdown",
   "metadata": {},
   "source": [
    "### Flatten Layer\n",
    "Implement the `flatten` function to change the dimension of `x_tensor` from a 4-D tensor to a 2-D tensor.  The output should be the shape (*Batch Size*, *Flattened Image Size*). Shortcut option: you can use classes from the [TensorFlow Layers](https://www.tensorflow.org/api_docs/python/tf/layers) or [TensorFlow Layers (contrib)](https://www.tensorflow.org/api_guides/python/contrib.layers) packages for this layer. For more of a challenge, only use other TensorFlow packages."
   ]
  },
  {
   "cell_type": "code",
   "execution_count": 18,
   "metadata": {},
   "outputs": [
    {
     "name": "stdout",
     "output_type": "stream",
     "text": [
      "Tests Passed\n"
     ]
    }
   ],
   "source": [
    "def flatten(x_tensor):\n",
    "    \"\"\"\n",
    "    Flatten x_tensor to (Batch Size, Flattened Image Size)\n",
    "    : x_tensor: A tensor of size (Batch Size, ...), where ... are the image dimensions.\n",
    "    : return: A tensor of size (Batch Size, Flattened Image Size).\n",
    "    \"\"\"\n",
    "    \n",
    "    return tf.contrib.layers.flatten(x_tensor)\n",
    "\n",
    "\n",
    "\"\"\"\n",
    "DON'T MODIFY ANYTHING IN THIS CELL THAT IS BELOW THIS LINE\n",
    "\"\"\"\n",
    "tests.test_flatten(flatten)"
   ]
  },
  {
   "cell_type": "markdown",
   "metadata": {},
   "source": [
    "### Fully-Connected Layer\n",
    "Implement the `fully_conn` function to apply a fully connected layer to `x_tensor` with the shape (*Batch Size*, *num_outputs*). Shortcut option: you can use classes from the [TensorFlow Layers](https://www.tensorflow.org/api_docs/python/tf/layers) or [TensorFlow Layers (contrib)](https://www.tensorflow.org/api_guides/python/contrib.layers) packages for this layer. For more of a challenge, only use other TensorFlow packages."
   ]
  },
  {
   "cell_type": "code",
   "execution_count": 19,
   "metadata": {},
   "outputs": [
    {
     "name": "stdout",
     "output_type": "stream",
     "text": [
      "Tests Passed\n"
     ]
    }
   ],
   "source": [
    "def fully_conn(x_tensor, num_outputs):\n",
    "    \"\"\"\n",
    "    Apply a fully connected layer to x_tensor using weight and bias\n",
    "    : x_tensor: A 2-D tensor where the first dimension is batch size.\n",
    "    : num_outputs: The number of output that the new tensor should be.\n",
    "    : return: A 2-D tensor where the second dimension is num_outputs.\n",
    "    \"\"\"\n",
    "    \n",
    "    shape = x_tensor.get_shape().as_list()\n",
    "    weights = tf.Variable(tf.random_normal([shape[-1], num_outputs], stddev=0.1))\n",
    "    bias = tf.Variable(tf.zeros(num_outputs)) + 0.11\n",
    "    \n",
    "    layer = tf.matmul(x_tensor, weights)\n",
    "    layer = tf.add(layer, bias)\n",
    "    layer = tf.nn.relu(layer)\n",
    "    \n",
    "    return layer\n",
    "\n",
    "\"\"\"\n",
    "DON'T MODIFY ANYTHING IN THIS CELL THAT IS BELOW THIS LINE\n",
    "\"\"\"\n",
    "tests.test_fully_conn(fully_conn)"
   ]
  },
  {
   "cell_type": "markdown",
   "metadata": {},
   "source": [
    "### Output Layer\n",
    "Implement the `output` function to apply a fully connected layer to `x_tensor` with the shape (*Batch Size*, *num_outputs*). Shortcut option: you can use classes from the [TensorFlow Layers](https://www.tensorflow.org/api_docs/python/tf/layers) or [TensorFlow Layers (contrib)](https://www.tensorflow.org/api_guides/python/contrib.layers) packages for this layer. For more of a challenge, only use other TensorFlow packages.\n",
    "\n",
    "**Note:** Activation, softmax, or cross entropy should **not** be applied to this."
   ]
  },
  {
   "cell_type": "code",
   "execution_count": 20,
   "metadata": {},
   "outputs": [
    {
     "name": "stdout",
     "output_type": "stream",
     "text": [
      "Tests Passed\n"
     ]
    }
   ],
   "source": [
    "def output(x_tensor, num_outputs):\n",
    "    \"\"\"\n",
    "    Apply a output layer to x_tensor using weight and bias\n",
    "    : x_tensor: A 2-D tensor where the first dimension is batch size.\n",
    "    : num_outputs: The number of output that the new tensor should be.\n",
    "    : return: A 2-D tensor where the second dimension is num_outputs.\n",
    "    \"\"\"\n",
    "    \n",
    "    shape = x_tensor.get_shape().as_list()\n",
    "    weights = tf.Variable(tf.random_normal([shape[-1], num_outputs]))\n",
    "    bias = tf.Variable(tf.zeros(num_outputs))\n",
    "    \n",
    "    layer = tf.matmul(x_tensor, weights)\n",
    "    layer = tf.add(layer, bias)\n",
    "    \n",
    "    return layer\n",
    "\n",
    "\n",
    "\"\"\"\n",
    "DON'T MODIFY ANYTHING IN THIS CELL THAT IS BELOW THIS LINE\n",
    "\"\"\"\n",
    "tests.test_output(output)"
   ]
  },
  {
   "cell_type": "markdown",
   "metadata": {},
   "source": [
    "### Create Convolutional Model\n",
    "Implement the function `conv_net` to create a convolutional neural network model. The function takes in a batch of images, `x`, and outputs logits.  Use the layers you created above to create this model:\n",
    "\n",
    "* Apply 1, 2, or 3 Convolution and Max Pool layers\n",
    "* Apply a Flatten Layer\n",
    "* Apply 1, 2, or 3 Fully Connected Layers\n",
    "* Apply an Output Layer\n",
    "* Return the output\n",
    "* Apply [TensorFlow's Dropout](https://www.tensorflow.org/api_docs/python/tf/nn/dropout) to one or more layers in the model using `keep_prob`. "
   ]
  },
  {
   "cell_type": "code",
   "execution_count": 37,
   "metadata": {},
   "outputs": [
    {
     "name": "stdout",
     "output_type": "stream",
     "text": [
      "Neural Network Built!\n"
     ]
    }
   ],
   "source": [
    "def conv_net(x, keep_prob):\n",
    "    \"\"\"\n",
    "    Create a convolutional neural network model\n",
    "    : x: Placeholder tensor that holds image data.\n",
    "    : keep_prob: Placeholder tensor that hold dropout keep probability.\n",
    "    : return: Tensor that represents logits\n",
    "    \"\"\"\n",
    "    # Apply 1, 2, or 3 Convolution and Max Pool layers\n",
    "    #    Play around with different number of outputs, kernel size and stride\n",
    "    # Function Definition from Above:\n",
    "    #    conv2d_maxpool(x_tensor, conv_num_outputs, conv_ksize, conv_strides, pool_ksize, pool_strides)\n",
    "    layer1 = conv2d_maxpool(x, 16, conv_ksize=[4, 4], conv_strides=[1, 1], pool_ksize=[2, 2], pool_strides=[2, 2])\n",
    "    layer2 = conv2d_maxpool(layer1, 32, conv_ksize=[4, 4], conv_strides=[1, 1], pool_ksize=[2, 2], pool_strides=[2, 2])\n",
    "    layer3 = conv2d_maxpool(layer2, 64, conv_ksize=[4, 4], conv_strides=[1, 1], pool_ksize=[2, 2], pool_strides=[2, 2])\n",
    "    \n",
    "    # Apply a Flatten Layer\n",
    "    # Function Definition from Above:\n",
    "    #   flatten(x_tensor)\n",
    "    flat_layer = flatten(layer3)\n",
    "\n",
    "    # Apply 1, 2, or 3 Fully Connected Layers\n",
    "    #    Play around with different number of outputs\n",
    "    # Function Definition from Above:\n",
    "    #   fully_conn(x_tensor, num_outputs)\n",
    "    fully_connected = fully_conn(flat_layer, 512)\n",
    "    fully_connected = tf.nn.dropout(fully_connected, keep_prob)\n",
    "    fully_connected = fully_conn(fully_connected, 128)\n",
    "    fully_connected = tf.nn.dropout(fully_connected, keep_prob)\n",
    "    \n",
    "    # Apply an Output Layer\n",
    "    #    Set this to the number of classes\n",
    "    # Function Definition from Above:\n",
    "    #   output(x_tensor, num_outputs)\n",
    "    output_layer  = output(fully_connected,10)\n",
    "    \n",
    "    return output_layer \n",
    "\n",
    "\n",
    "\"\"\"\n",
    "DON'T MODIFY ANYTHING IN THIS CELL THAT IS BELOW THIS LINE\n",
    "\"\"\"\n",
    "\n",
    "##############################\n",
    "## Build the Neural Network ##\n",
    "##############################\n",
    "\n",
    "# Remove previous weights, bias, inputs, etc..\n",
    "tf.reset_default_graph()\n",
    "\n",
    "# Inputs\n",
    "x = neural_net_image_input((32, 32, 3))\n",
    "y = neural_net_label_input(10)\n",
    "keep_prob = neural_net_keep_prob_input()\n",
    "\n",
    "# Model\n",
    "logits = conv_net(x, keep_prob)\n",
    "\n",
    "# Name logits Tensor, so that is can be loaded from disk after training\n",
    "logits = tf.identity(logits, name='logits')\n",
    "\n",
    "# Loss and Optimizer\n",
    "cost = tf.reduce_mean(tf.nn.softmax_cross_entropy_with_logits(logits=logits, labels=y))\n",
    "optimizer = tf.train.AdamOptimizer().minimize(cost)\n",
    "\n",
    "# Accuracy\n",
    "correct_pred = tf.equal(tf.argmax(logits, 1), tf.argmax(y, 1))\n",
    "accuracy = tf.reduce_mean(tf.cast(correct_pred, tf.float32), name='accuracy')\n",
    "\n",
    "tests.test_conv_net(conv_net)"
   ]
  },
  {
   "cell_type": "markdown",
   "metadata": {},
   "source": [
    "## Train the Neural Network\n",
    "### Single Optimization\n",
    "Implement the function `train_neural_network` to do a single optimization.  The optimization should use `optimizer` to optimize in `session` with a `feed_dict` of the following:\n",
    "* `x` for image input\n",
    "* `y` for labels\n",
    "* `keep_prob` for keep probability for dropout\n",
    "\n",
    "This function will be called for each batch, so `tf.global_variables_initializer()` has already been called.\n",
    "\n",
    "Note: Nothing needs to be returned. This function is only optimizing the neural network."
   ]
  },
  {
   "cell_type": "code",
   "execution_count": 24,
   "metadata": {},
   "outputs": [
    {
     "name": "stdout",
     "output_type": "stream",
     "text": [
      "Tests Passed\n"
     ]
    }
   ],
   "source": [
    "def train_neural_network(session, optimizer, keep_probability, feature_batch, label_batch):\n",
    "    \"\"\"\n",
    "    Optimize the session on a batch of images and labels\n",
    "    : session: Current TensorFlow session\n",
    "    : optimizer: TensorFlow optimizer function\n",
    "    : keep_probability: keep probability\n",
    "    : feature_batch: Batch of Numpy image data\n",
    "    : label_batch: Batch of Numpy label data\n",
    "    \"\"\"\n",
    "    \n",
    "    session.run(optimizer, feed_dict={x: feature_batch, y: label_batch, keep_prob: keep_probability})\n",
    "\n",
    "\"\"\"\n",
    "DON'T MODIFY ANYTHING IN THIS CELL THAT IS BELOW THIS LINE\n",
    "\"\"\"\n",
    "tests.test_train_nn(train_neural_network)"
   ]
  },
  {
   "cell_type": "markdown",
   "metadata": {},
   "source": [
    "### Show Stats\n",
    "Implement the function `print_stats` to print loss and validation accuracy.  Use the global variables `valid_features` and `valid_labels` to calculate validation accuracy.  Use a keep probability of `1.0` to calculate the loss and validation accuracy."
   ]
  },
  {
   "cell_type": "code",
   "execution_count": 25,
   "metadata": {
    "collapsed": true
   },
   "outputs": [],
   "source": [
    "def print_stats(session, feature_batch, label_batch, cost, accuracy):\n",
    "    \"\"\"\n",
    "    Print information about loss and validation accuracy\n",
    "    : session: Current TensorFlow session\n",
    "    : feature_batch: Batch of Numpy image data\n",
    "    : label_batch: Batch of Numpy label data\n",
    "    : cost: TensorFlow cost function\n",
    "    : accuracy: TensorFlow accuracy function\n",
    "    \"\"\"\n",
    "    \n",
    "    loss = session.run(cost, feed_dict={x: feature_batch, y: label_batch, keep_prob: 1.0})\n",
    "    validation_accuracy = session.run(accuracy, feed_dict={x: valid_features, y: valid_labels, keep_prob: 1.})\n",
    "    \n",
    "    print('Loss: {:>10.4f} Validation Accuracy: {:.6f}'.format(loss, validation_accuracy))"
   ]
  },
  {
   "cell_type": "markdown",
   "metadata": {},
   "source": [
    "### Hyperparameters\n",
    "Tune the following parameters:\n",
    "* Set `epochs` to the number of iterations until the network stops learning or start overfitting\n",
    "* Set `batch_size` to the highest number that your machine has memory for.  Most people set them to common sizes of memory:\n",
    " * 64\n",
    " * 128\n",
    " * 256\n",
    " * ...\n",
    "* Set `keep_probability` to the probability of keeping a node using dropout"
   ]
  },
  {
   "cell_type": "code",
   "execution_count": 38,
   "metadata": {
    "collapsed": true
   },
   "outputs": [],
   "source": [
    "# Tune Parameters\n",
    "epochs = 50\n",
    "batch_size = 256\n",
    "keep_probability = 0.75"
   ]
  },
  {
   "cell_type": "markdown",
   "metadata": {},
   "source": [
    "### Train on a Single CIFAR-10 Batch\n",
    "Instead of training the neural network on all the CIFAR-10 batches of data, let's use a single batch. This should save time while you iterate on the model to get a better accuracy.  Once the final validation accuracy is 50% or greater, run the model on all the data in the next section."
   ]
  },
  {
   "cell_type": "code",
   "execution_count": 39,
   "metadata": {},
   "outputs": [
    {
     "name": "stdout",
     "output_type": "stream",
     "text": [
      "Checking the Training on a Single Batch...\n",
      "Epoch  1, CIFAR-10 Batch 1:  Loss:     2.1328 Validation Accuracy: 0.191000\n",
      "Epoch  2, CIFAR-10 Batch 1:  Loss:     1.9605 Validation Accuracy: 0.275800\n",
      "Epoch  3, CIFAR-10 Batch 1:  Loss:     1.7514 Validation Accuracy: 0.333800\n",
      "Epoch  4, CIFAR-10 Batch 1:  Loss:     1.6561 Validation Accuracy: 0.367200\n",
      "Epoch  5, CIFAR-10 Batch 1:  Loss:     1.5067 Validation Accuracy: 0.354600\n",
      "Epoch  6, CIFAR-10 Batch 1:  Loss:     1.3038 Validation Accuracy: 0.403400\n",
      "Epoch  7, CIFAR-10 Batch 1:  Loss:     1.1270 Validation Accuracy: 0.405000\n",
      "Epoch  8, CIFAR-10 Batch 1:  Loss:     0.8975 Validation Accuracy: 0.440400\n",
      "Epoch  9, CIFAR-10 Batch 1:  Loss:     0.8503 Validation Accuracy: 0.455000\n",
      "Epoch 10, CIFAR-10 Batch 1:  Loss:     0.6575 Validation Accuracy: 0.471800\n",
      "Epoch 11, CIFAR-10 Batch 1:  Loss:     0.5455 Validation Accuracy: 0.474400\n",
      "Epoch 12, CIFAR-10 Batch 1:  Loss:     0.4359 Validation Accuracy: 0.486600\n",
      "Epoch 13, CIFAR-10 Batch 1:  Loss:     0.3768 Validation Accuracy: 0.494000\n",
      "Epoch 14, CIFAR-10 Batch 1:  Loss:     0.3181 Validation Accuracy: 0.482600\n",
      "Epoch 15, CIFAR-10 Batch 1:  Loss:     0.2716 Validation Accuracy: 0.505400\n",
      "Epoch 16, CIFAR-10 Batch 1:  Loss:     0.2323 Validation Accuracy: 0.494400\n",
      "Epoch 17, CIFAR-10 Batch 1:  Loss:     0.1643 Validation Accuracy: 0.513400\n",
      "Epoch 18, CIFAR-10 Batch 1:  Loss:     0.1301 Validation Accuracy: 0.516800\n",
      "Epoch 19, CIFAR-10 Batch 1:  Loss:     0.1437 Validation Accuracy: 0.519600\n",
      "Epoch 20, CIFAR-10 Batch 1:  Loss:     0.1243 Validation Accuracy: 0.509600\n",
      "Epoch 21, CIFAR-10 Batch 1:  Loss:     0.0782 Validation Accuracy: 0.518400\n",
      "Epoch 22, CIFAR-10 Batch 1:  Loss:     0.0690 Validation Accuracy: 0.528200\n",
      "Epoch 23, CIFAR-10 Batch 1:  Loss:     0.0620 Validation Accuracy: 0.516400\n",
      "Epoch 24, CIFAR-10 Batch 1:  Loss:     0.0539 Validation Accuracy: 0.510400\n",
      "Epoch 25, CIFAR-10 Batch 1:  Loss:     0.0526 Validation Accuracy: 0.502000\n",
      "Epoch 26, CIFAR-10 Batch 1:  Loss:     0.0548 Validation Accuracy: 0.491800\n",
      "Epoch 27, CIFAR-10 Batch 1:  Loss:     0.0382 Validation Accuracy: 0.507800\n",
      "Epoch 28, CIFAR-10 Batch 1:  Loss:     0.0387 Validation Accuracy: 0.489200\n",
      "Epoch 29, CIFAR-10 Batch 1:  Loss:     0.0263 Validation Accuracy: 0.509000\n",
      "Epoch 30, CIFAR-10 Batch 1:  Loss:     0.0158 Validation Accuracy: 0.522200\n",
      "Epoch 31, CIFAR-10 Batch 1:  Loss:     0.0159 Validation Accuracy: 0.506200\n",
      "Epoch 32, CIFAR-10 Batch 1:  Loss:     0.0135 Validation Accuracy: 0.503800\n",
      "Epoch 33, CIFAR-10 Batch 1:  Loss:     0.0101 Validation Accuracy: 0.512600\n",
      "Epoch 34, CIFAR-10 Batch 1:  Loss:     0.0087 Validation Accuracy: 0.517000\n",
      "Epoch 35, CIFAR-10 Batch 1:  Loss:     0.0074 Validation Accuracy: 0.519600\n",
      "Epoch 36, CIFAR-10 Batch 1:  Loss:     0.0094 Validation Accuracy: 0.519000\n",
      "Epoch 37, CIFAR-10 Batch 1:  Loss:     0.0036 Validation Accuracy: 0.516200\n",
      "Epoch 38, CIFAR-10 Batch 1:  Loss:     0.0122 Validation Accuracy: 0.515600\n",
      "Epoch 39, CIFAR-10 Batch 1:  Loss:     0.0166 Validation Accuracy: 0.502800\n",
      "Epoch 40, CIFAR-10 Batch 1:  Loss:     0.0034 Validation Accuracy: 0.522000\n",
      "Epoch 41, CIFAR-10 Batch 1:  Loss:     0.0030 Validation Accuracy: 0.513000\n",
      "Epoch 42, CIFAR-10 Batch 1:  Loss:     0.0034 Validation Accuracy: 0.517600\n",
      "Epoch 43, CIFAR-10 Batch 1:  Loss:     0.0035 Validation Accuracy: 0.510000\n",
      "Epoch 44, CIFAR-10 Batch 1:  Loss:     0.0027 Validation Accuracy: 0.516800\n",
      "Epoch 45, CIFAR-10 Batch 1:  Loss:     0.0030 Validation Accuracy: 0.507200\n",
      "Epoch 46, CIFAR-10 Batch 1:  Loss:     0.0016 Validation Accuracy: 0.509200\n",
      "Epoch 47, CIFAR-10 Batch 1:  Loss:     0.0015 Validation Accuracy: 0.514800\n",
      "Epoch 48, CIFAR-10 Batch 1:  Loss:     0.0021 Validation Accuracy: 0.507400\n",
      "Epoch 49, CIFAR-10 Batch 1:  Loss:     0.0022 Validation Accuracy: 0.511000\n",
      "Epoch 50, CIFAR-10 Batch 1:  Loss:     0.0020 Validation Accuracy: 0.515400\n"
     ]
    }
   ],
   "source": [
    "\"\"\"\n",
    "DON'T MODIFY ANYTHING IN THIS CELL\n",
    "\"\"\"\n",
    "print('Checking the Training on a Single Batch...')\n",
    "with tf.Session() as sess:\n",
    "    # Initializing the variables\n",
    "    sess.run(tf.global_variables_initializer())\n",
    "    \n",
    "    # Training cycle\n",
    "    for epoch in range(epochs):\n",
    "        batch_i = 1\n",
    "        for batch_features, batch_labels in helper.load_preprocess_training_batch(batch_i, batch_size):\n",
    "            train_neural_network(sess, optimizer, keep_probability, batch_features, batch_labels)\n",
    "        print('Epoch {:>2}, CIFAR-10 Batch {}:  '.format(epoch + 1, batch_i), end='')\n",
    "        print_stats(sess, batch_features, batch_labels, cost, accuracy)"
   ]
  },
  {
   "cell_type": "markdown",
   "metadata": {},
   "source": [
    "### Fully Train the Model\n",
    "Now that you got a good accuracy with a single CIFAR-10 batch, try it with all five batches."
   ]
  },
  {
   "cell_type": "code",
   "execution_count": 40,
   "metadata": {},
   "outputs": [
    {
     "name": "stdout",
     "output_type": "stream",
     "text": [
      "Training...\n",
      "Epoch  1, CIFAR-10 Batch 1:  Loss:     2.2259 Validation Accuracy: 0.147800\n",
      "Epoch  1, CIFAR-10 Batch 2:  Loss:     2.2254 Validation Accuracy: 0.170800\n",
      "Epoch  1, CIFAR-10 Batch 3:  Loss:     2.0368 Validation Accuracy: 0.264400\n",
      "Epoch  1, CIFAR-10 Batch 4:  Loss:     1.9401 Validation Accuracy: 0.321000\n",
      "Epoch  1, CIFAR-10 Batch 5:  Loss:     1.8097 Validation Accuracy: 0.360800\n",
      "Epoch  2, CIFAR-10 Batch 1:  Loss:     1.9360 Validation Accuracy: 0.375600\n",
      "Epoch  2, CIFAR-10 Batch 2:  Loss:     1.7313 Validation Accuracy: 0.418800\n",
      "Epoch  2, CIFAR-10 Batch 3:  Loss:     1.5885 Validation Accuracy: 0.425000\n",
      "Epoch  2, CIFAR-10 Batch 4:  Loss:     1.4421 Validation Accuracy: 0.435000\n",
      "Epoch  2, CIFAR-10 Batch 5:  Loss:     1.4802 Validation Accuracy: 0.458000\n",
      "Epoch  3, CIFAR-10 Batch 1:  Loss:     1.6249 Validation Accuracy: 0.469800\n",
      "Epoch  3, CIFAR-10 Batch 2:  Loss:     1.4401 Validation Accuracy: 0.467000\n",
      "Epoch  3, CIFAR-10 Batch 3:  Loss:     1.1947 Validation Accuracy: 0.471200\n",
      "Epoch  3, CIFAR-10 Batch 4:  Loss:     1.2482 Validation Accuracy: 0.479400\n",
      "Epoch  3, CIFAR-10 Batch 5:  Loss:     1.2712 Validation Accuracy: 0.498200\n",
      "Epoch  4, CIFAR-10 Batch 1:  Loss:     1.2192 Validation Accuracy: 0.500400\n",
      "Epoch  4, CIFAR-10 Batch 2:  Loss:     1.2027 Validation Accuracy: 0.496400\n",
      "Epoch  4, CIFAR-10 Batch 3:  Loss:     1.0487 Validation Accuracy: 0.514800\n",
      "Epoch  4, CIFAR-10 Batch 4:  Loss:     0.9615 Validation Accuracy: 0.514200\n",
      "Epoch  4, CIFAR-10 Batch 5:  Loss:     1.0476 Validation Accuracy: 0.521000\n",
      "Epoch  5, CIFAR-10 Batch 1:  Loss:     1.0598 Validation Accuracy: 0.526200\n",
      "Epoch  5, CIFAR-10 Batch 2:  Loss:     0.8967 Validation Accuracy: 0.536400\n",
      "Epoch  5, CIFAR-10 Batch 3:  Loss:     0.7928 Validation Accuracy: 0.542400\n",
      "Epoch  5, CIFAR-10 Batch 4:  Loss:     0.7418 Validation Accuracy: 0.549600\n",
      "Epoch  5, CIFAR-10 Batch 5:  Loss:     0.9000 Validation Accuracy: 0.553000\n",
      "Epoch  6, CIFAR-10 Batch 1:  Loss:     0.8318 Validation Accuracy: 0.554200\n",
      "Epoch  6, CIFAR-10 Batch 2:  Loss:     0.7818 Validation Accuracy: 0.543600\n",
      "Epoch  6, CIFAR-10 Batch 3:  Loss:     0.6313 Validation Accuracy: 0.558000\n",
      "Epoch  6, CIFAR-10 Batch 4:  Loss:     0.6205 Validation Accuracy: 0.575200\n",
      "Epoch  6, CIFAR-10 Batch 5:  Loss:     0.6667 Validation Accuracy: 0.581200\n",
      "Epoch  7, CIFAR-10 Batch 1:  Loss:     0.7315 Validation Accuracy: 0.576600\n",
      "Epoch  7, CIFAR-10 Batch 2:  Loss:     0.6192 Validation Accuracy: 0.584200\n",
      "Epoch  7, CIFAR-10 Batch 3:  Loss:     0.4307 Validation Accuracy: 0.582600\n",
      "Epoch  7, CIFAR-10 Batch 4:  Loss:     0.4890 Validation Accuracy: 0.589400\n",
      "Epoch  7, CIFAR-10 Batch 5:  Loss:     0.5060 Validation Accuracy: 0.585400\n",
      "Epoch  8, CIFAR-10 Batch 1:  Loss:     0.6433 Validation Accuracy: 0.580800\n",
      "Epoch  8, CIFAR-10 Batch 2:  Loss:     0.4840 Validation Accuracy: 0.586800\n",
      "Epoch  8, CIFAR-10 Batch 3:  Loss:     0.3557 Validation Accuracy: 0.589200\n",
      "Epoch  8, CIFAR-10 Batch 4:  Loss:     0.4124 Validation Accuracy: 0.592600\n",
      "Epoch  8, CIFAR-10 Batch 5:  Loss:     0.3753 Validation Accuracy: 0.598200\n",
      "Epoch  9, CIFAR-10 Batch 1:  Loss:     0.5796 Validation Accuracy: 0.589800\n",
      "Epoch  9, CIFAR-10 Batch 2:  Loss:     0.4436 Validation Accuracy: 0.569800\n",
      "Epoch  9, CIFAR-10 Batch 3:  Loss:     0.3109 Validation Accuracy: 0.600400\n",
      "Epoch  9, CIFAR-10 Batch 4:  Loss:     0.3609 Validation Accuracy: 0.596000\n",
      "Epoch  9, CIFAR-10 Batch 5:  Loss:     0.2649 Validation Accuracy: 0.607600\n",
      "Epoch 10, CIFAR-10 Batch 1:  Loss:     0.4495 Validation Accuracy: 0.598200\n",
      "Epoch 10, CIFAR-10 Batch 2:  Loss:     0.3996 Validation Accuracy: 0.594000\n",
      "Epoch 10, CIFAR-10 Batch 3:  Loss:     0.2361 Validation Accuracy: 0.611000\n",
      "Epoch 10, CIFAR-10 Batch 4:  Loss:     0.3509 Validation Accuracy: 0.601200\n",
      "Epoch 10, CIFAR-10 Batch 5:  Loss:     0.2778 Validation Accuracy: 0.602200\n",
      "Epoch 11, CIFAR-10 Batch 1:  Loss:     0.4230 Validation Accuracy: 0.591800\n",
      "Epoch 11, CIFAR-10 Batch 2:  Loss:     0.3120 Validation Accuracy: 0.610000\n",
      "Epoch 11, CIFAR-10 Batch 3:  Loss:     0.2051 Validation Accuracy: 0.606200\n",
      "Epoch 11, CIFAR-10 Batch 4:  Loss:     0.2502 Validation Accuracy: 0.604000\n",
      "Epoch 11, CIFAR-10 Batch 5:  Loss:     0.1681 Validation Accuracy: 0.612600\n",
      "Epoch 12, CIFAR-10 Batch 1:  Loss:     0.3344 Validation Accuracy: 0.596800\n",
      "Epoch 12, CIFAR-10 Batch 2:  Loss:     0.2592 Validation Accuracy: 0.609400\n",
      "Epoch 12, CIFAR-10 Batch 3:  Loss:     0.1617 Validation Accuracy: 0.616200\n",
      "Epoch 12, CIFAR-10 Batch 4:  Loss:     0.2227 Validation Accuracy: 0.613200\n",
      "Epoch 12, CIFAR-10 Batch 5:  Loss:     0.1551 Validation Accuracy: 0.613600\n",
      "Epoch 13, CIFAR-10 Batch 1:  Loss:     0.2869 Validation Accuracy: 0.600400\n",
      "Epoch 13, CIFAR-10 Batch 2:  Loss:     0.2217 Validation Accuracy: 0.622000\n",
      "Epoch 13, CIFAR-10 Batch 3:  Loss:     0.1543 Validation Accuracy: 0.608200\n",
      "Epoch 13, CIFAR-10 Batch 4:  Loss:     0.2211 Validation Accuracy: 0.613600\n",
      "Epoch 13, CIFAR-10 Batch 5:  Loss:     0.1490 Validation Accuracy: 0.614400\n",
      "Epoch 14, CIFAR-10 Batch 1:  Loss:     0.2670 Validation Accuracy: 0.611200\n",
      "Epoch 14, CIFAR-10 Batch 2:  Loss:     0.1877 Validation Accuracy: 0.622600\n",
      "Epoch 14, CIFAR-10 Batch 3:  Loss:     0.1225 Validation Accuracy: 0.613400\n",
      "Epoch 14, CIFAR-10 Batch 4:  Loss:     0.1239 Validation Accuracy: 0.625600\n",
      "Epoch 14, CIFAR-10 Batch 5:  Loss:     0.0959 Validation Accuracy: 0.613200\n",
      "Epoch 15, CIFAR-10 Batch 1:  Loss:     0.2005 Validation Accuracy: 0.625000\n",
      "Epoch 15, CIFAR-10 Batch 2:  Loss:     0.1735 Validation Accuracy: 0.612000\n",
      "Epoch 15, CIFAR-10 Batch 3:  Loss:     0.1046 Validation Accuracy: 0.619000\n",
      "Epoch 15, CIFAR-10 Batch 4:  Loss:     0.1102 Validation Accuracy: 0.625200\n",
      "Epoch 15, CIFAR-10 Batch 5:  Loss:     0.1040 Validation Accuracy: 0.623600\n",
      "Epoch 16, CIFAR-10 Batch 1:  Loss:     0.1715 Validation Accuracy: 0.624000\n",
      "Epoch 16, CIFAR-10 Batch 2:  Loss:     0.1610 Validation Accuracy: 0.624800\n",
      "Epoch 16, CIFAR-10 Batch 3:  Loss:     0.0952 Validation Accuracy: 0.610800\n",
      "Epoch 16, CIFAR-10 Batch 4:  Loss:     0.0764 Validation Accuracy: 0.627000\n",
      "Epoch 16, CIFAR-10 Batch 5:  Loss:     0.0638 Validation Accuracy: 0.623200\n",
      "Epoch 17, CIFAR-10 Batch 1:  Loss:     0.1218 Validation Accuracy: 0.624600\n",
      "Epoch 17, CIFAR-10 Batch 2:  Loss:     0.1165 Validation Accuracy: 0.631400\n",
      "Epoch 17, CIFAR-10 Batch 3:  Loss:     0.0717 Validation Accuracy: 0.609800\n",
      "Epoch 17, CIFAR-10 Batch 4:  Loss:     0.0872 Validation Accuracy: 0.612000\n",
      "Epoch 17, CIFAR-10 Batch 5:  Loss:     0.0644 Validation Accuracy: 0.624800\n",
      "Epoch 18, CIFAR-10 Batch 1:  Loss:     0.1109 Validation Accuracy: 0.634800\n",
      "Epoch 18, CIFAR-10 Batch 2:  Loss:     0.1198 Validation Accuracy: 0.629200\n",
      "Epoch 18, CIFAR-10 Batch 3:  Loss:     0.0566 Validation Accuracy: 0.607800\n",
      "Epoch 18, CIFAR-10 Batch 4:  Loss:     0.0646 Validation Accuracy: 0.626200\n",
      "Epoch 18, CIFAR-10 Batch 5:  Loss:     0.0598 Validation Accuracy: 0.630000\n",
      "Epoch 19, CIFAR-10 Batch 1:  Loss:     0.1066 Validation Accuracy: 0.637000\n",
      "Epoch 19, CIFAR-10 Batch 2:  Loss:     0.0886 Validation Accuracy: 0.632200\n",
      "Epoch 19, CIFAR-10 Batch 3:  Loss:     0.0465 Validation Accuracy: 0.599000\n",
      "Epoch 19, CIFAR-10 Batch 4:  Loss:     0.0440 Validation Accuracy: 0.623000\n",
      "Epoch 19, CIFAR-10 Batch 5:  Loss:     0.0699 Validation Accuracy: 0.616400\n",
      "Epoch 20, CIFAR-10 Batch 1:  Loss:     0.0816 Validation Accuracy: 0.624600\n",
      "Epoch 20, CIFAR-10 Batch 2:  Loss:     0.0796 Validation Accuracy: 0.624200\n",
      "Epoch 20, CIFAR-10 Batch 3:  Loss:     0.0564 Validation Accuracy: 0.595600\n",
      "Epoch 20, CIFAR-10 Batch 4:  Loss:     0.0598 Validation Accuracy: 0.615800\n",
      "Epoch 20, CIFAR-10 Batch 5:  Loss:     0.0592 Validation Accuracy: 0.621000\n",
      "Epoch 21, CIFAR-10 Batch 1:  Loss:     0.0725 Validation Accuracy: 0.622200\n",
      "Epoch 21, CIFAR-10 Batch 2:  Loss:     0.0794 Validation Accuracy: 0.609800\n",
      "Epoch 21, CIFAR-10 Batch 3:  Loss:     0.0495 Validation Accuracy: 0.605800\n",
      "Epoch 21, CIFAR-10 Batch 4:  Loss:     0.0470 Validation Accuracy: 0.622600\n",
      "Epoch 21, CIFAR-10 Batch 5:  Loss:     0.0458 Validation Accuracy: 0.629800\n",
      "Epoch 22, CIFAR-10 Batch 1:  Loss:     0.0934 Validation Accuracy: 0.626400\n",
      "Epoch 22, CIFAR-10 Batch 2:  Loss:     0.0600 Validation Accuracy: 0.612400\n"
     ]
    },
    {
     "name": "stdout",
     "output_type": "stream",
     "text": [
      "Epoch 22, CIFAR-10 Batch 3:  Loss:     0.0572 Validation Accuracy: 0.608400\n",
      "Epoch 22, CIFAR-10 Batch 4:  Loss:     0.0429 Validation Accuracy: 0.633200\n",
      "Epoch 22, CIFAR-10 Batch 5:  Loss:     0.0385 Validation Accuracy: 0.629600\n",
      "Epoch 23, CIFAR-10 Batch 1:  Loss:     0.0477 Validation Accuracy: 0.618200\n",
      "Epoch 23, CIFAR-10 Batch 2:  Loss:     0.0648 Validation Accuracy: 0.600400\n",
      "Epoch 23, CIFAR-10 Batch 3:  Loss:     0.0555 Validation Accuracy: 0.614400\n",
      "Epoch 23, CIFAR-10 Batch 4:  Loss:     0.0307 Validation Accuracy: 0.631400\n",
      "Epoch 23, CIFAR-10 Batch 5:  Loss:     0.0349 Validation Accuracy: 0.629200\n",
      "Epoch 24, CIFAR-10 Batch 1:  Loss:     0.0394 Validation Accuracy: 0.623200\n",
      "Epoch 24, CIFAR-10 Batch 2:  Loss:     0.0516 Validation Accuracy: 0.615000\n",
      "Epoch 24, CIFAR-10 Batch 3:  Loss:     0.0390 Validation Accuracy: 0.614800\n",
      "Epoch 24, CIFAR-10 Batch 4:  Loss:     0.0326 Validation Accuracy: 0.618400\n",
      "Epoch 24, CIFAR-10 Batch 5:  Loss:     0.0315 Validation Accuracy: 0.636400\n",
      "Epoch 25, CIFAR-10 Batch 1:  Loss:     0.0314 Validation Accuracy: 0.609400\n",
      "Epoch 25, CIFAR-10 Batch 2:  Loss:     0.0365 Validation Accuracy: 0.612000\n",
      "Epoch 25, CIFAR-10 Batch 3:  Loss:     0.0257 Validation Accuracy: 0.614000\n",
      "Epoch 25, CIFAR-10 Batch 4:  Loss:     0.0193 Validation Accuracy: 0.624600\n",
      "Epoch 25, CIFAR-10 Batch 5:  Loss:     0.0279 Validation Accuracy: 0.634400\n",
      "Epoch 26, CIFAR-10 Batch 1:  Loss:     0.0277 Validation Accuracy: 0.619800\n",
      "Epoch 26, CIFAR-10 Batch 2:  Loss:     0.0180 Validation Accuracy: 0.619200\n",
      "Epoch 26, CIFAR-10 Batch 3:  Loss:     0.0267 Validation Accuracy: 0.619000\n",
      "Epoch 26, CIFAR-10 Batch 4:  Loss:     0.0204 Validation Accuracy: 0.622600\n",
      "Epoch 26, CIFAR-10 Batch 5:  Loss:     0.0196 Validation Accuracy: 0.637200\n",
      "Epoch 27, CIFAR-10 Batch 1:  Loss:     0.0296 Validation Accuracy: 0.619800\n",
      "Epoch 27, CIFAR-10 Batch 2:  Loss:     0.0172 Validation Accuracy: 0.608600\n",
      "Epoch 27, CIFAR-10 Batch 3:  Loss:     0.0295 Validation Accuracy: 0.614200\n",
      "Epoch 27, CIFAR-10 Batch 4:  Loss:     0.0279 Validation Accuracy: 0.626000\n",
      "Epoch 27, CIFAR-10 Batch 5:  Loss:     0.0174 Validation Accuracy: 0.643400\n",
      "Epoch 28, CIFAR-10 Batch 1:  Loss:     0.0157 Validation Accuracy: 0.631000\n",
      "Epoch 28, CIFAR-10 Batch 2:  Loss:     0.0140 Validation Accuracy: 0.613000\n",
      "Epoch 28, CIFAR-10 Batch 3:  Loss:     0.0298 Validation Accuracy: 0.609200\n",
      "Epoch 28, CIFAR-10 Batch 4:  Loss:     0.0322 Validation Accuracy: 0.619200\n",
      "Epoch 28, CIFAR-10 Batch 5:  Loss:     0.0205 Validation Accuracy: 0.635400\n",
      "Epoch 29, CIFAR-10 Batch 1:  Loss:     0.0176 Validation Accuracy: 0.631400\n",
      "Epoch 29, CIFAR-10 Batch 2:  Loss:     0.0307 Validation Accuracy: 0.611800\n",
      "Epoch 29, CIFAR-10 Batch 3:  Loss:     0.0258 Validation Accuracy: 0.618400\n",
      "Epoch 29, CIFAR-10 Batch 4:  Loss:     0.0204 Validation Accuracy: 0.618000\n",
      "Epoch 29, CIFAR-10 Batch 5:  Loss:     0.0206 Validation Accuracy: 0.633200\n",
      "Epoch 30, CIFAR-10 Batch 1:  Loss:     0.0247 Validation Accuracy: 0.628200\n",
      "Epoch 30, CIFAR-10 Batch 2:  Loss:     0.0211 Validation Accuracy: 0.594000\n",
      "Epoch 30, CIFAR-10 Batch 3:  Loss:     0.0197 Validation Accuracy: 0.621000\n",
      "Epoch 30, CIFAR-10 Batch 4:  Loss:     0.0123 Validation Accuracy: 0.629400\n",
      "Epoch 30, CIFAR-10 Batch 5:  Loss:     0.0153 Validation Accuracy: 0.638400\n",
      "Epoch 31, CIFAR-10 Batch 1:  Loss:     0.0298 Validation Accuracy: 0.630000\n",
      "Epoch 31, CIFAR-10 Batch 2:  Loss:     0.0303 Validation Accuracy: 0.598400\n",
      "Epoch 31, CIFAR-10 Batch 3:  Loss:     0.0185 Validation Accuracy: 0.623600\n",
      "Epoch 31, CIFAR-10 Batch 4:  Loss:     0.0101 Validation Accuracy: 0.626800\n",
      "Epoch 31, CIFAR-10 Batch 5:  Loss:     0.0119 Validation Accuracy: 0.626000\n",
      "Epoch 32, CIFAR-10 Batch 1:  Loss:     0.0193 Validation Accuracy: 0.632400\n",
      "Epoch 32, CIFAR-10 Batch 2:  Loss:     0.0335 Validation Accuracy: 0.605800\n",
      "Epoch 32, CIFAR-10 Batch 3:  Loss:     0.0192 Validation Accuracy: 0.617000\n",
      "Epoch 32, CIFAR-10 Batch 4:  Loss:     0.0114 Validation Accuracy: 0.634600\n",
      "Epoch 32, CIFAR-10 Batch 5:  Loss:     0.0123 Validation Accuracy: 0.634800\n",
      "Epoch 33, CIFAR-10 Batch 1:  Loss:     0.0166 Validation Accuracy: 0.624600\n",
      "Epoch 33, CIFAR-10 Batch 2:  Loss:     0.0192 Validation Accuracy: 0.620000\n",
      "Epoch 33, CIFAR-10 Batch 3:  Loss:     0.0194 Validation Accuracy: 0.600800\n",
      "Epoch 33, CIFAR-10 Batch 4:  Loss:     0.0100 Validation Accuracy: 0.629800\n",
      "Epoch 33, CIFAR-10 Batch 5:  Loss:     0.0095 Validation Accuracy: 0.635600\n",
      "Epoch 34, CIFAR-10 Batch 1:  Loss:     0.0142 Validation Accuracy: 0.626400\n",
      "Epoch 34, CIFAR-10 Batch 2:  Loss:     0.0195 Validation Accuracy: 0.615400\n",
      "Epoch 34, CIFAR-10 Batch 3:  Loss:     0.0207 Validation Accuracy: 0.629600\n",
      "Epoch 34, CIFAR-10 Batch 4:  Loss:     0.0138 Validation Accuracy: 0.622600\n",
      "Epoch 34, CIFAR-10 Batch 5:  Loss:     0.0053 Validation Accuracy: 0.631000\n",
      "Epoch 35, CIFAR-10 Batch 1:  Loss:     0.0070 Validation Accuracy: 0.635800\n",
      "Epoch 35, CIFAR-10 Batch 2:  Loss:     0.0123 Validation Accuracy: 0.626200\n",
      "Epoch 35, CIFAR-10 Batch 3:  Loss:     0.0090 Validation Accuracy: 0.620400\n",
      "Epoch 35, CIFAR-10 Batch 4:  Loss:     0.0088 Validation Accuracy: 0.614600\n",
      "Epoch 35, CIFAR-10 Batch 5:  Loss:     0.0049 Validation Accuracy: 0.623200\n",
      "Epoch 36, CIFAR-10 Batch 1:  Loss:     0.0130 Validation Accuracy: 0.633600\n",
      "Epoch 36, CIFAR-10 Batch 2:  Loss:     0.0121 Validation Accuracy: 0.618400\n",
      "Epoch 36, CIFAR-10 Batch 3:  Loss:     0.0076 Validation Accuracy: 0.631200\n",
      "Epoch 36, CIFAR-10 Batch 4:  Loss:     0.0066 Validation Accuracy: 0.631200\n",
      "Epoch 36, CIFAR-10 Batch 5:  Loss:     0.0018 Validation Accuracy: 0.622800\n",
      "Epoch 37, CIFAR-10 Batch 1:  Loss:     0.0046 Validation Accuracy: 0.642400\n",
      "Epoch 37, CIFAR-10 Batch 2:  Loss:     0.0160 Validation Accuracy: 0.618800\n",
      "Epoch 37, CIFAR-10 Batch 3:  Loss:     0.0086 Validation Accuracy: 0.628800\n",
      "Epoch 37, CIFAR-10 Batch 4:  Loss:     0.0063 Validation Accuracy: 0.621400\n",
      "Epoch 37, CIFAR-10 Batch 5:  Loss:     0.0041 Validation Accuracy: 0.626800\n",
      "Epoch 38, CIFAR-10 Batch 1:  Loss:     0.0070 Validation Accuracy: 0.638800\n",
      "Epoch 38, CIFAR-10 Batch 2:  Loss:     0.0113 Validation Accuracy: 0.609400\n",
      "Epoch 38, CIFAR-10 Batch 3:  Loss:     0.0026 Validation Accuracy: 0.639800\n",
      "Epoch 38, CIFAR-10 Batch 4:  Loss:     0.0031 Validation Accuracy: 0.624000\n",
      "Epoch 38, CIFAR-10 Batch 5:  Loss:     0.0047 Validation Accuracy: 0.614200\n",
      "Epoch 39, CIFAR-10 Batch 1:  Loss:     0.0148 Validation Accuracy: 0.633200\n",
      "Epoch 39, CIFAR-10 Batch 2:  Loss:     0.0080 Validation Accuracy: 0.627200\n",
      "Epoch 39, CIFAR-10 Batch 3:  Loss:     0.0057 Validation Accuracy: 0.644400\n",
      "Epoch 39, CIFAR-10 Batch 4:  Loss:     0.0041 Validation Accuracy: 0.627800\n",
      "Epoch 39, CIFAR-10 Batch 5:  Loss:     0.0042 Validation Accuracy: 0.621600\n",
      "Epoch 40, CIFAR-10 Batch 1:  Loss:     0.0075 Validation Accuracy: 0.632400\n",
      "Epoch 40, CIFAR-10 Batch 2:  Loss:     0.0057 Validation Accuracy: 0.623600\n",
      "Epoch 40, CIFAR-10 Batch 3:  Loss:     0.0031 Validation Accuracy: 0.633600\n",
      "Epoch 40, CIFAR-10 Batch 4:  Loss:     0.0055 Validation Accuracy: 0.617200\n",
      "Epoch 40, CIFAR-10 Batch 5:  Loss:     0.0029 Validation Accuracy: 0.625000\n",
      "Epoch 41, CIFAR-10 Batch 1:  Loss:     0.0049 Validation Accuracy: 0.620000\n",
      "Epoch 41, CIFAR-10 Batch 2:  Loss:     0.0044 Validation Accuracy: 0.628200\n",
      "Epoch 41, CIFAR-10 Batch 3:  Loss:     0.0044 Validation Accuracy: 0.629200\n",
      "Epoch 41, CIFAR-10 Batch 4:  Loss:     0.0040 Validation Accuracy: 0.632400\n",
      "Epoch 41, CIFAR-10 Batch 5:  Loss:     0.0032 Validation Accuracy: 0.625400\n",
      "Epoch 42, CIFAR-10 Batch 1:  Loss:     0.0027 Validation Accuracy: 0.618600\n",
      "Epoch 42, CIFAR-10 Batch 2:  Loss:     0.0043 Validation Accuracy: 0.635600\n",
      "Epoch 42, CIFAR-10 Batch 3:  Loss:     0.0050 Validation Accuracy: 0.629000\n",
      "Epoch 42, CIFAR-10 Batch 4:  Loss:     0.0078 Validation Accuracy: 0.632000\n",
      "Epoch 42, CIFAR-10 Batch 5:  Loss:     0.0025 Validation Accuracy: 0.634000\n",
      "Epoch 43, CIFAR-10 Batch 1:  Loss:     0.0052 Validation Accuracy: 0.629400\n",
      "Epoch 43, CIFAR-10 Batch 2:  Loss:     0.0017 Validation Accuracy: 0.626200\n",
      "Epoch 43, CIFAR-10 Batch 3:  Loss:     0.0052 Validation Accuracy: 0.625000\n",
      "Epoch 43, CIFAR-10 Batch 4:  Loss:     0.0122 Validation Accuracy: 0.622400\n"
     ]
    },
    {
     "name": "stdout",
     "output_type": "stream",
     "text": [
      "Epoch 43, CIFAR-10 Batch 5:  Loss:     0.0020 Validation Accuracy: 0.628400\n",
      "Epoch 44, CIFAR-10 Batch 1:  Loss:     0.0018 Validation Accuracy: 0.634600\n",
      "Epoch 44, CIFAR-10 Batch 2:  Loss:     0.0016 Validation Accuracy: 0.637600\n",
      "Epoch 44, CIFAR-10 Batch 3:  Loss:     0.0021 Validation Accuracy: 0.626800\n",
      "Epoch 44, CIFAR-10 Batch 4:  Loss:     0.0017 Validation Accuracy: 0.627800\n",
      "Epoch 44, CIFAR-10 Batch 5:  Loss:     0.0021 Validation Accuracy: 0.621000\n",
      "Epoch 45, CIFAR-10 Batch 1:  Loss:     0.0013 Validation Accuracy: 0.638000\n",
      "Epoch 45, CIFAR-10 Batch 2:  Loss:     0.0021 Validation Accuracy: 0.622600\n",
      "Epoch 45, CIFAR-10 Batch 3:  Loss:     0.0010 Validation Accuracy: 0.636400\n",
      "Epoch 45, CIFAR-10 Batch 4:  Loss:     0.0026 Validation Accuracy: 0.621000\n",
      "Epoch 45, CIFAR-10 Batch 5:  Loss:     0.0081 Validation Accuracy: 0.612600\n",
      "Epoch 46, CIFAR-10 Batch 1:  Loss:     0.0026 Validation Accuracy: 0.631200\n",
      "Epoch 46, CIFAR-10 Batch 2:  Loss:     0.0026 Validation Accuracy: 0.612600\n",
      "Epoch 46, CIFAR-10 Batch 3:  Loss:     0.0019 Validation Accuracy: 0.632400\n",
      "Epoch 46, CIFAR-10 Batch 4:  Loss:     0.0028 Validation Accuracy: 0.623000\n",
      "Epoch 46, CIFAR-10 Batch 5:  Loss:     0.0026 Validation Accuracy: 0.605000\n",
      "Epoch 47, CIFAR-10 Batch 1:  Loss:     0.0019 Validation Accuracy: 0.616400\n",
      "Epoch 47, CIFAR-10 Batch 2:  Loss:     0.0009 Validation Accuracy: 0.635200\n",
      "Epoch 47, CIFAR-10 Batch 3:  Loss:     0.0012 Validation Accuracy: 0.622400\n",
      "Epoch 47, CIFAR-10 Batch 4:  Loss:     0.0049 Validation Accuracy: 0.635400\n",
      "Epoch 47, CIFAR-10 Batch 5:  Loss:     0.0011 Validation Accuracy: 0.631800\n",
      "Epoch 48, CIFAR-10 Batch 1:  Loss:     0.0046 Validation Accuracy: 0.614600\n",
      "Epoch 48, CIFAR-10 Batch 2:  Loss:     0.0007 Validation Accuracy: 0.622600\n",
      "Epoch 48, CIFAR-10 Batch 3:  Loss:     0.0111 Validation Accuracy: 0.615400\n",
      "Epoch 48, CIFAR-10 Batch 4:  Loss:     0.0017 Validation Accuracy: 0.632200\n",
      "Epoch 48, CIFAR-10 Batch 5:  Loss:     0.0015 Validation Accuracy: 0.641000\n",
      "Epoch 49, CIFAR-10 Batch 1:  Loss:     0.0027 Validation Accuracy: 0.622400\n",
      "Epoch 49, CIFAR-10 Batch 2:  Loss:     0.0007 Validation Accuracy: 0.627000\n",
      "Epoch 49, CIFAR-10 Batch 3:  Loss:     0.0018 Validation Accuracy: 0.611400\n",
      "Epoch 49, CIFAR-10 Batch 4:  Loss:     0.0071 Validation Accuracy: 0.632200\n",
      "Epoch 49, CIFAR-10 Batch 5:  Loss:     0.0022 Validation Accuracy: 0.641600\n",
      "Epoch 50, CIFAR-10 Batch 1:  Loss:     0.0019 Validation Accuracy: 0.631200\n",
      "Epoch 50, CIFAR-10 Batch 2:  Loss:     0.0016 Validation Accuracy: 0.636200\n",
      "Epoch 50, CIFAR-10 Batch 3:  Loss:     0.0021 Validation Accuracy: 0.623000\n",
      "Epoch 50, CIFAR-10 Batch 4:  Loss:     0.0035 Validation Accuracy: 0.629000\n",
      "Epoch 50, CIFAR-10 Batch 5:  Loss:     0.0029 Validation Accuracy: 0.639600\n"
     ]
    }
   ],
   "source": [
    "\"\"\"\n",
    "DON'T MODIFY ANYTHING IN THIS CELL\n",
    "\"\"\"\n",
    "save_model_path = './image_classification'\n",
    "\n",
    "print('Training...')\n",
    "with tf.Session() as sess:\n",
    "    # Initializing the variables\n",
    "    sess.run(tf.global_variables_initializer())\n",
    "    \n",
    "    # Training cycle\n",
    "    for epoch in range(epochs):\n",
    "        # Loop over all batches\n",
    "        n_batches = 5\n",
    "        for batch_i in range(1, n_batches + 1):\n",
    "            for batch_features, batch_labels in helper.load_preprocess_training_batch(batch_i, batch_size):\n",
    "                train_neural_network(sess, optimizer, keep_probability, batch_features, batch_labels)\n",
    "            print('Epoch {:>2}, CIFAR-10 Batch {}:  '.format(epoch + 1, batch_i), end='')\n",
    "            print_stats(sess, batch_features, batch_labels, cost, accuracy)\n",
    "            \n",
    "    # Save Model\n",
    "    saver = tf.train.Saver()\n",
    "    save_path = saver.save(sess, save_model_path)"
   ]
  },
  {
   "cell_type": "markdown",
   "metadata": {},
   "source": [
    "# Checkpoint\n",
    "The model has been saved to disk.\n",
    "## Test Model\n",
    "Test your model against the test dataset.  This will be your final accuracy. You should have an accuracy greater than 50%. If you don't, keep tweaking the model architecture and parameters."
   ]
  },
  {
   "cell_type": "code",
   "execution_count": 41,
   "metadata": {},
   "outputs": [
    {
     "name": "stdout",
     "output_type": "stream",
     "text": [
      "Testing Accuracy: 0.638671875\n",
      "\n"
     ]
    },
    {
     "data": {
      "image/png": "[encoded data removed]",
      "text/plain": [
       "<matplotlib.figure.Figure at 0x20000877438>"
      ]
     },
     "metadata": {
      "image/png": {
       "height": 319,
       "width": 355
      }
     },
     "output_type": "display_data"
    }
   ],
   "source": [
    "\"\"\"\n",
    "DON'T MODIFY ANYTHING IN THIS CELL\n",
    "\"\"\"\n",
    "%matplotlib inline\n",
    "%config InlineBackend.figure_format = 'retina'\n",
    "\n",
    "import tensorflow as tf\n",
    "import pickle\n",
    "import helper\n",
    "import random\n",
    "\n",
    "# Set batch size if not already set\n",
    "try:\n",
    "    if batch_size:\n",
    "        pass\n",
    "except NameError:\n",
    "    batch_size = 64\n",
    "\n",
    "save_model_path = './image_classification'\n",
    "n_samples = 4\n",
    "top_n_predictions = 3\n",
    "\n",
    "def test_model():\n",
    "    \"\"\"\n",
    "    Test the saved model against the test dataset\n",
    "    \"\"\"\n",
    "\n",
    "    test_features, test_labels = pickle.load(open('preprocess_test.p', mode='rb'))\n",
    "    loaded_graph = tf.Graph()\n",
    "\n",
    "    with tf.Session(graph=loaded_graph) as sess:\n",
    "        # Load model\n",
    "        loader = tf.train.import_meta_graph(save_model_path + '.meta')\n",
    "        loader.restore(sess, save_model_path)\n",
    "\n",
    "        # Get Tensors from loaded model\n",
    "        loaded_x = loaded_graph.get_tensor_by_name('x:0')\n",
    "        loaded_y = loaded_graph.get_tensor_by_name('y:0')\n",
    "        loaded_keep_prob = loaded_graph.get_tensor_by_name('keep_prob:0')\n",
    "        loaded_logits = loaded_graph.get_tensor_by_name('logits:0')\n",
    "        loaded_acc = loaded_graph.get_tensor_by_name('accuracy:0')\n",
    "        \n",
    "        # Get accuracy in batches for memory limitations\n",
    "        test_batch_acc_total = 0\n",
    "        test_batch_count = 0\n",
    "        \n",
    "        for test_feature_batch, test_label_batch in helper.batch_features_labels(test_features, test_labels, batch_size):\n",
    "            test_batch_acc_total += sess.run(\n",
    "                loaded_acc,\n",
    "                feed_dict={loaded_x: test_feature_batch, loaded_y: test_label_batch, loaded_keep_prob: 1.0})\n",
    "            test_batch_count += 1\n",
    "\n",
    "        print('Testing Accuracy: {}\\n'.format(test_batch_acc_total/test_batch_count))\n",
    "\n",
    "        # Print Random Samples\n",
    "        random_test_features, random_test_labels = tuple(zip(*random.sample(list(zip(test_features, test_labels)), n_samples)))\n",
    "        random_test_predictions = sess.run(\n",
    "            tf.nn.top_k(tf.nn.softmax(loaded_logits), top_n_predictions),\n",
    "            feed_dict={loaded_x: random_test_features, loaded_y: random_test_labels, loaded_keep_prob: 1.0})\n",
    "        helper.display_image_predictions(random_test_features, random_test_labels, random_test_predictions)\n",
    "\n",
    "\n",
    "test_model()"
   ]
  },
  {
   "cell_type": "markdown",
   "metadata": {},
   "source": [
    "## Why 50-80% Accuracy?\n",
    "You might be wondering why you can't get an accuracy any higher. First things first, 50% isn't bad for a simple CNN.  Pure guessing would get you 10% accuracy. However, you might notice people are getting scores [well above 80%](http://rodrigob.github.io/are_we_there_yet/build/classification_datasets_results.html#43494641522d3130).  That's because we haven't taught you all there is to know about neural networks. We still need to cover a few more techniques.\n",
    "## Submitting This Project\n",
    "When submitting this project, make sure to run all the cells before saving the notebook.  Save the notebook file as \"dlnd_image_classification.ipynb\" and save it as a HTML file under \"File\" -> \"Download as\".  Include the \"helper.py\" and \"problem_unittests.py\" files in your submission."
   ]
  }
 ],
 "metadata": {
  "kernelspec": {
   "display_name": "Python 3",
   "language": "python",
   "name": "python3"
  },
  "language_info": {
   "codemirror_mode": {
    "name": "ipython",
    "version": 3
   },
   "file_extension": ".py",
   "mimetype": "text/x-python",
   "name": "python",
   "nbconvert_exporter": "python",
   "pygments_lexer": "ipython3",
   "version": "3.5.3"
  }
 },
 "nbformat": 4,
 "nbformat_minor": 1
}
